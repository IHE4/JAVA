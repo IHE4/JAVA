{
 "cells": [
  {
   "cell_type": "code",
   "execution_count": 1,
   "id": "67a48a03-4aba-4d0e-aa13-4e98b5e3c91e",
   "metadata": {},
   "outputs": [
    {
     "name": "stderr",
     "output_type": "stream",
     "text": [
      "ERROR: Could not find a version that satisfies the requirement requet (from versions: none)\n",
      "ERROR: No matching distribution found for requet\n"
     ]
    }
   ],
   "source": [
    "!pip install requet flask"
   ]
  },
  {
   "cell_type": "code",
   "execution_count": null,
   "id": "d1e4f046-0e25-4a88-ae76-977b47f12fe6",
   "metadata": {},
   "outputs": [
    {
     "name": "stderr",
     "output_type": "stream",
     "text": [
      "C:\\Python311\\Lib\\site-packages\\huggingface_hub\\file_download.py:157: UserWarning: `huggingface_hub` cache-system uses symlinks by default to efficiently store duplicated files but your machine does not support them in C:\\Users\\richy\\.cache\\huggingface\\hub\\models--botdevringring--fr-naxai-ai-sentiment-classification-171830112023. Caching files will still work but in a degraded version that might require more space on your disk. This warning can be disabled by setting the `HF_HUB_DISABLE_SYMLINKS_WARNING` environment variable. For more details, see https://huggingface.co/docs/huggingface_hub/how-to-cache#limitations.\n",
      "To support symlinks on Windows, you either need to activate Developer Mode or to run Python as an administrator. In order to see activate developer mode, see this article: https://docs.microsoft.com/en-us/windows/apps/get-started/enable-your-device-for-development\n",
      "  warnings.warn(message)\n"
     ]
    }
   ],
   "source": [
    "from transformers import pipeline\n",
    "from flask import Flask, request, jsonify\n",
    "\n",
    "# Charger le pipeline de classification de sentiment en français\n",
    "classifier = pipeline(\n",
    "    task='text-classification',\n",
    "    model='botdevringring/fr-naxai-ai-sentiment-classification-171830112023',\n",
    "    tokenizer='botdevringring/fr-naxai-ai-sentiment-classification-171830112023'\n",
    ")\n",
    "\n",
    "app = Flask(__name__)\n",
    "\n",
    "@app.route('/predict', methods=['POST'])\n",
    "def predict():\n",
    "    data = request.json\n",
    "    text = data['text']\n",
    "    result = classifier(text)\n",
    "    return jsonify(result)\n",
    "\n",
    "if __name__ == '__main__':\n",
    "    app.run(host='0.0.0.0', port=5000)\n"
   ]
  },
  {
   "cell_type": "code",
   "execution_count": null,
   "id": "83db5eee-7626-431a-8d36-5742ffb40b82",
   "metadata": {},
   "outputs": [],
   "source": []
  }
 ],
 "metadata": {
  "kernelspec": {
   "display_name": "pytorch",
   "language": "python",
   "name": "pytorch"
  },
  "language_info": {
   "codemirror_mode": {
    "name": "ipython",
    "version": 3
   },
   "file_extension": ".py",
   "mimetype": "text/x-python",
   "name": "python",
   "nbconvert_exporter": "python",
   "pygments_lexer": "ipython3",
   "version": "3.11.4"
  }
 },
 "nbformat": 4,
 "nbformat_minor": 5
}
