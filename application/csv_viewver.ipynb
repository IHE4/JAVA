{
 "cells": [
  {
   "cell_type": "code",
   "execution_count": 1,
   "metadata": {},
   "outputs": [],
   "source": [
    "import pandas as pd"
   ]
  },
  {
   "cell_type": "code",
   "execution_count": 2,
   "metadata": {},
   "outputs": [
    {
     "data": {
      "text/html": [
       "<div>\n",
       "<style scoped>\n",
       "    .dataframe tbody tr th:only-of-type {\n",
       "        vertical-align: middle;\n",
       "    }\n",
       "\n",
       "    .dataframe tbody tr th {\n",
       "        vertical-align: top;\n",
       "    }\n",
       "\n",
       "    .dataframe thead th {\n",
       "        text-align: right;\n",
       "    }\n",
       "</style>\n",
       "<table border=\"1\" class=\"dataframe\">\n",
       "  <thead>\n",
       "    <tr style=\"text-align: right;\">\n",
       "      <th></th>\n",
       "      <th>id</th>\n",
       "      <th>email</th>\n",
       "      <th>mot_de_passe</th>\n",
       "      <th>prenom</th>\n",
       "      <th>nom</th>\n",
       "      <th>date_de_naissance</th>\n",
       "      <th>adresse</th>\n",
       "      <th>phrase_secrete</th>\n",
       "      <th>est_administrateur</th>\n",
       "      <th>argent</th>\n",
       "    </tr>\n",
       "  </thead>\n",
       "  <tbody>\n",
       "    <tr>\n",
       "      <th>0</th>\n",
       "      <td>0</td>\n",
       "      <td>aa@gmail.com</td>\n",
       "      <td>aa</td>\n",
       "      <td>Richy</td>\n",
       "      <td>Razafindandy</td>\n",
       "      <td>17/05/2003</td>\n",
       "      <td>1 rue de la paix</td>\n",
       "      <td>2+2</td>\n",
       "      <td>1</td>\n",
       "      <td>999.9</td>\n",
       "    </tr>\n",
       "    <tr>\n",
       "      <th>1</th>\n",
       "      <td>1</td>\n",
       "      <td>bb@gmail.com</td>\n",
       "      <td>bb</td>\n",
       "      <td>Imane</td>\n",
       "      <td>Hammouche</td>\n",
       "      <td>31/12/1994</td>\n",
       "      <td>3 avenu francklin roosevelt</td>\n",
       "      <td>maroc</td>\n",
       "      <td>1</td>\n",
       "      <td>549.5</td>\n",
       "    </tr>\n",
       "    <tr>\n",
       "      <th>2</th>\n",
       "      <td>2</td>\n",
       "      <td>cc@gmail.com</td>\n",
       "      <td>cc</td>\n",
       "      <td>Berkehan</td>\n",
       "      <td>Uslu</td>\n",
       "      <td>16/06/1991</td>\n",
       "      <td>78 bis rue des turcs</td>\n",
       "      <td>branleur</td>\n",
       "      <td>0</td>\n",
       "      <td>458.2</td>\n",
       "    </tr>\n",
       "  </tbody>\n",
       "</table>\n",
       "</div>"
      ],
      "text/plain": [
       "   id         email mot_de_passe    prenom           nom date_de_naissance  \\\n",
       "0   0  aa@gmail.com           aa     Richy  Razafindandy        17/05/2003   \n",
       "1   1  bb@gmail.com           bb     Imane     Hammouche        31/12/1994   \n",
       "2   2  cc@gmail.com           cc  Berkehan          Uslu        16/06/1991   \n",
       "\n",
       "                       adresse phrase_secrete  est_administrateur  argent  \n",
       "0             1 rue de la paix            2+2                   1   999.9  \n",
       "1  3 avenu francklin roosevelt          maroc                   1   549.5  \n",
       "2         78 bis rue des turcs       branleur                   0   458.2  "
      ]
     },
     "execution_count": 2,
     "metadata": {},
     "output_type": "execute_result"
    }
   ],
   "source": [
    "csv = pd.read_csv('user.csv', delimiter=';')\n",
    "csv"
   ]
  },
  {
   "cell_type": "code",
   "execution_count": null,
   "metadata": {},
   "outputs": [],
   "source": []
  }
 ],
 "metadata": {
  "kernelspec": {
   "display_name": "Python 3",
   "language": "python",
   "name": "python3"
  },
  "language_info": {
   "codemirror_mode": {
    "name": "ipython",
    "version": 3
   },
   "file_extension": ".py",
   "mimetype": "text/x-python",
   "name": "python",
   "nbconvert_exporter": "python",
   "pygments_lexer": "ipython3",
   "version": "3.11.4"
  }
 },
 "nbformat": 4,
 "nbformat_minor": 2
}
